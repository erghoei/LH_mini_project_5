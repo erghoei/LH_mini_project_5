{
 "cells": [
  {
   "cell_type": "markdown",
   "metadata": {},
   "source": [
    "## Language Translator"
   ]
  },
  {
   "cell_type": "code",
   "execution_count": 1,
   "metadata": {},
   "outputs": [],
   "source": [
    "import nltk"
   ]
  },
  {
   "cell_type": "markdown",
   "metadata": {},
   "source": [
    "From `nltk` we can download translated sentences between different languages. You can see the example between **English and French** below but feel free to try different combination as well."
   ]
  },
  {
   "cell_type": "code",
   "execution_count": 2,
   "metadata": {},
   "outputs": [
    {
     "name": "stderr",
     "output_type": "stream",
     "text": [
      "[nltk_data] Downloading package comtrans to\n",
      "[nltk_data]     C:\\Users\\eric_\\AppData\\Roaming\\nltk_data...\n",
      "[nltk_data]   Package comtrans is already up-to-date!\n"
     ]
    },
    {
     "data": {
      "text/plain": [
       "True"
      ]
     },
     "execution_count": 2,
     "metadata": {},
     "output_type": "execute_result"
    }
   ],
   "source": [
    "nltk.download('comtrans')"
   ]
  },
  {
   "cell_type": "code",
   "execution_count": 28,
   "metadata": {},
   "outputs": [
    {
     "name": "stdout",
     "output_type": "stream",
     "text": [
      "<AlignedSent: 'Please rise , then ,...' -> 'Je vous invite à vou...'>\n"
     ]
    }
   ],
   "source": [
    "from nltk.corpus import comtrans\n",
    "print(comtrans.aligned_sents('alignment-en-fr.txt')[3])"
   ]
  },
  {
   "cell_type": "code",
   "execution_count": 4,
   "metadata": {},
   "outputs": [
    {
     "data": {
      "text/plain": [
       "33334"
      ]
     },
     "execution_count": 4,
     "metadata": {},
     "output_type": "execute_result"
    }
   ],
   "source": [
    "len(comtrans.aligned_sents('alignment-en-fr.txt'))"
   ]
  },
  {
   "cell_type": "markdown",
   "metadata": {},
   "source": [
    "## Load Data"
   ]
  },
  {
   "cell_type": "code",
   "execution_count": 118,
   "metadata": {},
   "outputs": [],
   "source": [
    "import pandas as pd"
   ]
  },
  {
   "cell_type": "code",
   "execution_count": 93,
   "metadata": {},
   "outputs": [],
   "source": [
    "df = pd.read_csv('align-en-fr1.txt', delimiter='\\t', encoding='latin-1', names=['english'])"
   ]
  },
  {
   "cell_type": "code",
   "execution_count": 111,
   "metadata": {},
   "outputs": [],
   "source": [
    "# separate english texts into one column as the data, french into another column as the labels\n",
    "df1 = pd.DataFrame()\n",
    "df1['english'] = df.iloc[::3]\n",
    "df1.reset_index(inplace=True, drop=True)"
   ]
  },
  {
   "cell_type": "code",
   "execution_count": 112,
   "metadata": {},
   "outputs": [],
   "source": [
    "df2 = pd.DataFrame()\n",
    "df2['french'] = df.iloc[1::3]\n",
    "df2.reset_index(inplace=True, drop=True)"
   ]
  },
  {
   "cell_type": "code",
   "execution_count": 114,
   "metadata": {},
   "outputs": [],
   "source": [
    "# merge the english and french dataframes together\n",
    "df3 = pd.merge(df1, df2, left_index=True, right_index=True)"
   ]
  },
  {
   "cell_type": "code",
   "execution_count": 117,
   "metadata": {},
   "outputs": [
    {
     "data": {
      "text/html": [
       "<div>\n",
       "<style scoped>\n",
       "    .dataframe tbody tr th:only-of-type {\n",
       "        vertical-align: middle;\n",
       "    }\n",
       "\n",
       "    .dataframe tbody tr th {\n",
       "        vertical-align: top;\n",
       "    }\n",
       "\n",
       "    .dataframe thead th {\n",
       "        text-align: right;\n",
       "    }\n",
       "</style>\n",
       "<table border=\"1\" class=\"dataframe\">\n",
       "  <thead>\n",
       "    <tr style=\"text-align: right;\">\n",
       "      <th></th>\n",
       "      <th>english</th>\n",
       "      <th>french</th>\n",
       "    </tr>\n",
       "  </thead>\n",
       "  <tbody>\n",
       "    <tr>\n",
       "      <th>0</th>\n",
       "      <td>Resumption of the session</td>\n",
       "      <td>Reprise de la session</td>\n",
       "    </tr>\n",
       "    <tr>\n",
       "      <th>1</th>\n",
       "      <td>I declare resumed the session of the European ...</td>\n",
       "      <td>Je déclare reprise la session du Parlement eur...</td>\n",
       "    </tr>\n",
       "    <tr>\n",
       "      <th>2</th>\n",
       "      <td>You have requested a debate on this subject in...</td>\n",
       "      <td>Vous avez souhaité un débat à ce sujet dans le...</td>\n",
       "    </tr>\n",
       "    <tr>\n",
       "      <th>3</th>\n",
       "      <td>Please rise , then , for this minute ' s silen...</td>\n",
       "      <td>Je vous invite à vous lever pour cette minute ...</td>\n",
       "    </tr>\n",
       "    <tr>\n",
       "      <th>4</th>\n",
       "      <td>( The House rose and observed a minute ' s sil...</td>\n",
       "      <td>( Le Parlement , debout , observe une minute d...</td>\n",
       "    </tr>\n",
       "    <tr>\n",
       "      <th>...</th>\n",
       "      <td>...</td>\n",
       "      <td>...</td>\n",
       "    </tr>\n",
       "    <tr>\n",
       "      <th>33329</th>\n",
       "      <td>That is an absolute must , especially in an en...</td>\n",
       "      <td>C' est une nécessité absolue , surtout dans un...</td>\n",
       "    </tr>\n",
       "    <tr>\n",
       "      <th>33330</th>\n",
       "      <td>Mr President , Commissioner , ladies and gentl...</td>\n",
       "      <td>Monsieur le Président , Madame la Commissaire ...</td>\n",
       "    </tr>\n",
       "    <tr>\n",
       "      <th>33331</th>\n",
       "      <td>The report is as good and judicious as Mr Hatz...</td>\n",
       "      <td>Le rapport est aussi bon et circonspect que ne...</td>\n",
       "    </tr>\n",
       "    <tr>\n",
       "      <th>33332</th>\n",
       "      <td>Let me also take this opportunity to support h...</td>\n",
       "      <td>À cette occasion , je voudrais également appuy...</td>\n",
       "    </tr>\n",
       "    <tr>\n",
       "      <th>33333</th>\n",
       "      <td>He proposes increasing the budget funding .</td>\n",
       "      <td>Il propose d' augmenter les ressources budgéta...</td>\n",
       "    </tr>\n",
       "  </tbody>\n",
       "</table>\n",
       "<p>33334 rows × 2 columns</p>\n",
       "</div>"
      ],
      "text/plain": [
       "                                                 english  \\\n",
       "0                              Resumption of the session   \n",
       "1      I declare resumed the session of the European ...   \n",
       "2      You have requested a debate on this subject in...   \n",
       "3      Please rise , then , for this minute ' s silen...   \n",
       "4      ( The House rose and observed a minute ' s sil...   \n",
       "...                                                  ...   \n",
       "33329  That is an absolute must , especially in an en...   \n",
       "33330  Mr President , Commissioner , ladies and gentl...   \n",
       "33331  The report is as good and judicious as Mr Hatz...   \n",
       "33332  Let me also take this opportunity to support h...   \n",
       "33333        He proposes increasing the budget funding .   \n",
       "\n",
       "                                                  french  \n",
       "0                                  Reprise de la session  \n",
       "1      Je déclare reprise la session du Parlement eur...  \n",
       "2      Vous avez souhaité un débat à ce sujet dans le...  \n",
       "3      Je vous invite à vous lever pour cette minute ...  \n",
       "4      ( Le Parlement , debout , observe une minute d...  \n",
       "...                                                  ...  \n",
       "33329  C' est une nécessité absolue , surtout dans un...  \n",
       "33330  Monsieur le Président , Madame la Commissaire ...  \n",
       "33331  Le rapport est aussi bon et circonspect que ne...  \n",
       "33332  À cette occasion , je voudrais également appuy...  \n",
       "33333  Il propose d' augmenter les ressources budgéta...  \n",
       "\n",
       "[33334 rows x 2 columns]"
      ]
     },
     "execution_count": 117,
     "metadata": {},
     "output_type": "execute_result"
    }
   ],
   "source": [
    "df3"
   ]
  },
  {
   "cell_type": "markdown",
   "metadata": {},
   "source": [
    "## Text Preprocessing"
   ]
  },
  {
   "cell_type": "code",
   "execution_count": 133,
   "metadata": {},
   "outputs": [],
   "source": [
    "import string\n",
    "import matplotlib.pyplot as plt\n",
    "import tensorflow as tf\n",
    "from tensorflow.keras.preprocessing.text import Tokenizer\n",
    "from tensorflow.keras.preprocessing.sequence import pad_sequences"
   ]
  },
  {
   "cell_type": "code",
   "execution_count": 120,
   "metadata": {},
   "outputs": [],
   "source": [
    "# function to remove punctuation\n",
    "def remove_punct(text):\n",
    "    text = \"\".join([char for char in text if char not in string.punctuation])\n",
    "    return text"
   ]
  },
  {
   "cell_type": "code",
   "execution_count": 122,
   "metadata": {},
   "outputs": [
    {
     "data": {
      "text/html": [
       "<div>\n",
       "<style scoped>\n",
       "    .dataframe tbody tr th:only-of-type {\n",
       "        vertical-align: middle;\n",
       "    }\n",
       "\n",
       "    .dataframe tbody tr th {\n",
       "        vertical-align: top;\n",
       "    }\n",
       "\n",
       "    .dataframe thead th {\n",
       "        text-align: right;\n",
       "    }\n",
       "</style>\n",
       "<table border=\"1\" class=\"dataframe\">\n",
       "  <thead>\n",
       "    <tr style=\"text-align: right;\">\n",
       "      <th></th>\n",
       "      <th>english</th>\n",
       "      <th>french</th>\n",
       "      <th>eng_nopunct</th>\n",
       "      <th>fr_nopunct</th>\n",
       "    </tr>\n",
       "  </thead>\n",
       "  <tbody>\n",
       "    <tr>\n",
       "      <th>0</th>\n",
       "      <td>Resumption of the session</td>\n",
       "      <td>Reprise de la session</td>\n",
       "      <td>Resumption of the session</td>\n",
       "      <td>Reprise de la session</td>\n",
       "    </tr>\n",
       "    <tr>\n",
       "      <th>1</th>\n",
       "      <td>I declare resumed the session of the European ...</td>\n",
       "      <td>Je déclare reprise la session du Parlement eur...</td>\n",
       "      <td>I declare resumed the session of the European ...</td>\n",
       "      <td>Je déclare reprise la session du Parlement eur...</td>\n",
       "    </tr>\n",
       "    <tr>\n",
       "      <th>2</th>\n",
       "      <td>You have requested a debate on this subject in...</td>\n",
       "      <td>Vous avez souhaité un débat à ce sujet dans le...</td>\n",
       "      <td>You have requested a debate on this subject in...</td>\n",
       "      <td>Vous avez souhaité un débat à ce sujet dans le...</td>\n",
       "    </tr>\n",
       "    <tr>\n",
       "      <th>3</th>\n",
       "      <td>Please rise , then , for this minute ' s silen...</td>\n",
       "      <td>Je vous invite à vous lever pour cette minute ...</td>\n",
       "      <td>Please rise  then  for this minute  s silence</td>\n",
       "      <td>Je vous invite à vous lever pour cette minute ...</td>\n",
       "    </tr>\n",
       "    <tr>\n",
       "      <th>4</th>\n",
       "      <td>( The House rose and observed a minute ' s sil...</td>\n",
       "      <td>( Le Parlement , debout , observe une minute d...</td>\n",
       "      <td>The House rose and observed a minute  s silence</td>\n",
       "      <td>Le Parlement  debout  observe une minute de s...</td>\n",
       "    </tr>\n",
       "    <tr>\n",
       "      <th>5</th>\n",
       "      <td>Madam President , on a point of order .</td>\n",
       "      <td>Madame la Présidente , c' est une motion de pr...</td>\n",
       "      <td>Madam President  on a point of order</td>\n",
       "      <td>Madame la Présidente  c est une motion de proc...</td>\n",
       "    </tr>\n",
       "    <tr>\n",
       "      <th>6</th>\n",
       "      <td>You will be aware from the press and televisio...</td>\n",
       "      <td>Vous avez probablement appris par la presse et...</td>\n",
       "      <td>You will be aware from the press and televisio...</td>\n",
       "      <td>Vous avez probablement appris par la presse et...</td>\n",
       "    </tr>\n",
       "    <tr>\n",
       "      <th>7</th>\n",
       "      <td>One of the people assassinated very recently i...</td>\n",
       "      <td>L' une des personnes qui vient d' être assassi...</td>\n",
       "      <td>One of the people assassinated very recently i...</td>\n",
       "      <td>L une des personnes qui vient d être assassiné...</td>\n",
       "    </tr>\n",
       "    <tr>\n",
       "      <th>8</th>\n",
       "      <td>Yes , Mr Evans , I feel an initiative of the t...</td>\n",
       "      <td>Oui , Monsieur Evans , je pense qu' une initia...</td>\n",
       "      <td>Yes  Mr Evans  I feel an initiative of the typ...</td>\n",
       "      <td>Oui  Monsieur Evans  je pense qu une initiativ...</td>\n",
       "    </tr>\n",
       "    <tr>\n",
       "      <th>9</th>\n",
       "      <td>If the House agrees , I shall do as Mr Evans h...</td>\n",
       "      <td>Si l' Assemblée en est d' accord , je ferai co...</td>\n",
       "      <td>If the House agrees  I shall do as Mr Evans ha...</td>\n",
       "      <td>Si l Assemblée en est d accord  je ferai comme...</td>\n",
       "    </tr>\n",
       "  </tbody>\n",
       "</table>\n",
       "</div>"
      ],
      "text/plain": [
       "                                             english  \\\n",
       "0                          Resumption of the session   \n",
       "1  I declare resumed the session of the European ...   \n",
       "2  You have requested a debate on this subject in...   \n",
       "3  Please rise , then , for this minute ' s silen...   \n",
       "4  ( The House rose and observed a minute ' s sil...   \n",
       "5            Madam President , on a point of order .   \n",
       "6  You will be aware from the press and televisio...   \n",
       "7  One of the people assassinated very recently i...   \n",
       "8  Yes , Mr Evans , I feel an initiative of the t...   \n",
       "9  If the House agrees , I shall do as Mr Evans h...   \n",
       "\n",
       "                                              french  \\\n",
       "0                              Reprise de la session   \n",
       "1  Je déclare reprise la session du Parlement eur...   \n",
       "2  Vous avez souhaité un débat à ce sujet dans le...   \n",
       "3  Je vous invite à vous lever pour cette minute ...   \n",
       "4  ( Le Parlement , debout , observe une minute d...   \n",
       "5  Madame la Présidente , c' est une motion de pr...   \n",
       "6  Vous avez probablement appris par la presse et...   \n",
       "7  L' une des personnes qui vient d' être assassi...   \n",
       "8  Oui , Monsieur Evans , je pense qu' une initia...   \n",
       "9  Si l' Assemblée en est d' accord , je ferai co...   \n",
       "\n",
       "                                         eng_nopunct  \\\n",
       "0                          Resumption of the session   \n",
       "1  I declare resumed the session of the European ...   \n",
       "2  You have requested a debate on this subject in...   \n",
       "3     Please rise  then  for this minute  s silence    \n",
       "4   The House rose and observed a minute  s silence    \n",
       "5              Madam President  on a point of order    \n",
       "6  You will be aware from the press and televisio...   \n",
       "7  One of the people assassinated very recently i...   \n",
       "8  Yes  Mr Evans  I feel an initiative of the typ...   \n",
       "9  If the House agrees  I shall do as Mr Evans ha...   \n",
       "\n",
       "                                          fr_nopunct  \n",
       "0                              Reprise de la session  \n",
       "1  Je déclare reprise la session du Parlement eur...  \n",
       "2  Vous avez souhaité un débat à ce sujet dans le...  \n",
       "3  Je vous invite à vous lever pour cette minute ...  \n",
       "4   Le Parlement  debout  observe une minute de s...  \n",
       "5  Madame la Présidente  c est une motion de proc...  \n",
       "6  Vous avez probablement appris par la presse et...  \n",
       "7  L une des personnes qui vient d être assassiné...  \n",
       "8  Oui  Monsieur Evans  je pense qu une initiativ...  \n",
       "9  Si l Assemblée en est d accord  je ferai comme...  "
      ]
     },
     "execution_count": 122,
     "metadata": {},
     "output_type": "execute_result"
    }
   ],
   "source": [
    "df3['eng_nopunct'] = df3['english'].apply(lambda x: remove_punct(x))\n",
    "df3['fr_nopunct'] = df3['french'].apply(lambda x: remove_punct(x))\n",
    "\n",
    "df3.head(10)"
   ]
  },
  {
   "cell_type": "code",
   "execution_count": 123,
   "metadata": {},
   "outputs": [
    {
     "data": {
      "text/html": [
       "<div>\n",
       "<style scoped>\n",
       "    .dataframe tbody tr th:only-of-type {\n",
       "        vertical-align: middle;\n",
       "    }\n",
       "\n",
       "    .dataframe tbody tr th {\n",
       "        vertical-align: top;\n",
       "    }\n",
       "\n",
       "    .dataframe thead th {\n",
       "        text-align: right;\n",
       "    }\n",
       "</style>\n",
       "<table border=\"1\" class=\"dataframe\">\n",
       "  <thead>\n",
       "    <tr style=\"text-align: right;\">\n",
       "      <th></th>\n",
       "      <th>english</th>\n",
       "      <th>french</th>\n",
       "      <th>eng_nopunct</th>\n",
       "      <th>fr_nopunct</th>\n",
       "    </tr>\n",
       "  </thead>\n",
       "  <tbody>\n",
       "    <tr>\n",
       "      <th>0</th>\n",
       "      <td>Resumption of the session</td>\n",
       "      <td>Reprise de la session</td>\n",
       "      <td>resumption of the session</td>\n",
       "      <td>reprise de la session</td>\n",
       "    </tr>\n",
       "    <tr>\n",
       "      <th>1</th>\n",
       "      <td>I declare resumed the session of the European ...</td>\n",
       "      <td>Je déclare reprise la session du Parlement eur...</td>\n",
       "      <td>i declare resumed the session of the european ...</td>\n",
       "      <td>je déclare reprise la session du parlement eur...</td>\n",
       "    </tr>\n",
       "    <tr>\n",
       "      <th>2</th>\n",
       "      <td>You have requested a debate on this subject in...</td>\n",
       "      <td>Vous avez souhaité un débat à ce sujet dans le...</td>\n",
       "      <td>you have requested a debate on this subject in...</td>\n",
       "      <td>vous avez souhaité un débat à ce sujet dans le...</td>\n",
       "    </tr>\n",
       "    <tr>\n",
       "      <th>3</th>\n",
       "      <td>Please rise , then , for this minute ' s silen...</td>\n",
       "      <td>Je vous invite à vous lever pour cette minute ...</td>\n",
       "      <td>please rise  then  for this minute  s silence</td>\n",
       "      <td>je vous invite à vous lever pour cette minute ...</td>\n",
       "    </tr>\n",
       "    <tr>\n",
       "      <th>4</th>\n",
       "      <td>( The House rose and observed a minute ' s sil...</td>\n",
       "      <td>( Le Parlement , debout , observe une minute d...</td>\n",
       "      <td>the house rose and observed a minute  s silence</td>\n",
       "      <td>le parlement  debout  observe une minute de s...</td>\n",
       "    </tr>\n",
       "  </tbody>\n",
       "</table>\n",
       "</div>"
      ],
      "text/plain": [
       "                                             english  \\\n",
       "0                          Resumption of the session   \n",
       "1  I declare resumed the session of the European ...   \n",
       "2  You have requested a debate on this subject in...   \n",
       "3  Please rise , then , for this minute ' s silen...   \n",
       "4  ( The House rose and observed a minute ' s sil...   \n",
       "\n",
       "                                              french  \\\n",
       "0                              Reprise de la session   \n",
       "1  Je déclare reprise la session du Parlement eur...   \n",
       "2  Vous avez souhaité un débat à ce sujet dans le...   \n",
       "3  Je vous invite à vous lever pour cette minute ...   \n",
       "4  ( Le Parlement , debout , observe une minute d...   \n",
       "\n",
       "                                         eng_nopunct  \\\n",
       "0                          resumption of the session   \n",
       "1  i declare resumed the session of the european ...   \n",
       "2  you have requested a debate on this subject in...   \n",
       "3     please rise  then  for this minute  s silence    \n",
       "4   the house rose and observed a minute  s silence    \n",
       "\n",
       "                                          fr_nopunct  \n",
       "0                              reprise de la session  \n",
       "1  je déclare reprise la session du parlement eur...  \n",
       "2  vous avez souhaité un débat à ce sujet dans le...  \n",
       "3  je vous invite à vous lever pour cette minute ...  \n",
       "4   le parlement  debout  observe une minute de s...  "
      ]
     },
     "execution_count": 123,
     "metadata": {},
     "output_type": "execute_result"
    }
   ],
   "source": [
    "# apply lower to nopunct\n",
    "df3['eng_nopunct'] = df3['eng_nopunct'].apply(lambda x: x.lower())\n",
    "df3['fr_nopunct'] = df3['fr_nopunct'].apply(lambda x : x.lower())\n",
    "\n",
    "df3.head()"
   ]
  },
  {
   "cell_type": "code",
   "execution_count": 156,
   "metadata": {},
   "outputs": [],
   "source": [
    "# instantiate eng_nopunct and fr_nopunct into series for training and testing split later\n",
    "eng1 = df3['eng_nopunct']\n",
    "fr1 = df3['fr_nopunct']"
   ]
  },
  {
   "cell_type": "code",
   "execution_count": 131,
   "metadata": {},
   "outputs": [
    {
     "data": {
      "image/png": "[encoded data removed]",
      "text/plain": [
       "<Figure size 432x288 with 2 Axes>"
      ]
     },
     "metadata": {
      "needs_background": "light"
     },
     "output_type": "display_data"
    },
    {
     "name": "stdout",
     "output_type": "stream",
     "text": [
      "The longest English sentence is 39 words long.\n",
      "The longest French sentence is 39 words long.\n"
     ]
    }
   ],
   "source": [
    "# check distribution of sentence lengths in data\n",
    "\n",
    "# create empty lists to append sentence lengths into\n",
    "eng_l = []\n",
    "fr_l = []\n",
    "\n",
    "# fill the lists with sentence lengths for graphing\n",
    "for i in df3['eng_nopunct']:\n",
    "      eng_l.append(len(i.split()))\n",
    "\n",
    "for i in df3['fr_nopunct']:\n",
    "      fr_l.append(len(i.split()))\n",
    "\n",
    "length_df = pd.DataFrame({'eng':eng_l, 'fr':fr_l})\n",
    "\n",
    "# graph histogram for distribution of sentence lengths\n",
    "length_df.hist(bins=40)\n",
    "plt.show()\n",
    "\n",
    "print('The longest English sentence is', max(eng_l), 'words long.')\n",
    "print('The longest French sentence is', max(fr_l), 'words long.')"
   ]
  },
  {
   "cell_type": "code",
   "execution_count": 155,
   "metadata": {},
   "outputs": [],
   "source": [
    "maxlen = 39 # since both english and french have the same length, only need one variable\n",
    "\n",
    "# create function to tokenize eng_nopunct and fr_nopunct\n",
    "def tokenizer(lines):\n",
    "    t = Tokenizer()\n",
    "    t.fit_on_texts(lines)\n",
    "    return t"
   ]
  },
  {
   "cell_type": "code",
   "execution_count": 161,
   "metadata": {},
   "outputs": [
    {
     "name": "stdout",
     "output_type": "stream",
     "text": [
      "English vocab size: 16870\n"
     ]
    }
   ],
   "source": [
    "# prepare english tokenizer\n",
    "eng_tokenizer = tokenizer(eng1)\n",
    "eng_vocab_size = len(eng_tokenizer.word_index) + 1 # +1 is for embedding layer\n",
    "\n",
    "print('English vocab size:', eng_vocab_size)"
   ]
  },
  {
   "cell_type": "code",
   "execution_count": 162,
   "metadata": {},
   "outputs": [
    {
     "name": "stdout",
     "output_type": "stream",
     "text": [
      "French vocab size: 22701\n"
     ]
    }
   ],
   "source": [
    "# prepare french tokenizer\n",
    "fr_tokenizer = tokenizer(fr1)\n",
    "fr_vocab_size = len(fr_tokenizer.word_index) + 1 # +1 is for embedding layer\n",
    "\n",
    "print('French vocab size:', fr_vocab_size)"
   ]
  },
  {
   "cell_type": "code",
   "execution_count": 167,
   "metadata": {},
   "outputs": [],
   "source": [
    "# create function to encode and pad sequences\n",
    "def encoder(tokenizer, length, lines):\n",
    "    s = tokenizer.texts_to_sequences(lines)\n",
    "    s = pad_sequences(s, maxlen=length, padding='post')\n",
    "    return s"
   ]
  },
  {
   "cell_type": "markdown",
   "metadata": {},
   "source": [
    "## Create Model"
   ]
  },
  {
   "cell_type": "code",
   "execution_count": 201,
   "metadata": {},
   "outputs": [],
   "source": [
    "from sklearn.model_selection import train_test_split\n",
    "from tensorflow.keras.models import Sequential\n",
    "from tensorflow.keras.layers import Dense, LSTM, Embedding\n",
    "import numpy as np"
   ]
  },
  {
   "cell_type": "code",
   "execution_count": 165,
   "metadata": {},
   "outputs": [],
   "source": [
    "# split into training and testing data\n",
    "X_train, X_test, y_train, y_test = train_test_split(eng1, fr1, test_size=0.2)"
   ]
  },
  {
   "cell_type": "code",
   "execution_count": 169,
   "metadata": {},
   "outputs": [],
   "source": [
    "# preprocess training and testing data using created preprocessing functions\n",
    "X_train_enc = encoder(eng_tokenizer, maxlen, X_train)\n",
    "y_train_enc = encoder(fr_tokenizer, maxlen, y_train)\n",
    "\n",
    "X_test_enc = encoder(eng_tokenizer, maxlen, X_test)\n",
    "y_test_enc = encoder(fr_tokenizer, maxlen, y_test)"
   ]
  },
  {
   "cell_type": "code",
   "execution_count": 179,
   "metadata": {},
   "outputs": [],
   "source": [
    "# create model\n",
    "model = Sequential()\n",
    "model.add(Embedding(input_dim=eng_vocab_size, output_dim=512, input_length=maxlen, mask_zero=True))\n",
    "model.add(LSTM(512, return_sequences=True))\n",
    "model.add(LSTM(256, return_sequences=True))\n",
    "model.add(LSTM(128, return_sequences=True))\n",
    "model.add(Dense(fr_vocab_size, activation='softmax'))\n",
    "model.compile(optimizer='adam', loss='sparse_categorical_crossentropy', metrics=['accuracy'])"
   ]
  },
  {
   "cell_type": "code",
   "execution_count": 285,
   "metadata": {},
   "outputs": [
    {
     "name": "stdout",
     "output_type": "stream",
     "text": [
      "Epoch 1/100\n",
      "183/183 [==============================] - 36s 175ms/step - loss: 1.7190 - accuracy: 0.3125 - val_loss: 3.5685 - val_accuracy: 0.0995\n",
      "Epoch 2/100\n",
      "183/183 [==============================] - 31s 171ms/step - loss: 1.6884 - accuracy: 0.3197 - val_loss: 3.6193 - val_accuracy: 0.1000\n",
      "Epoch 3/100\n",
      "183/183 [==============================] - 30s 166ms/step - loss: 1.6494 - accuracy: 0.3316 - val_loss: 3.6583 - val_accuracy: 0.0988\n",
      "Epoch 4/100\n",
      "183/183 [==============================] - 31s 165ms/step - loss: 1.6108 - accuracy: 0.3428 - val_loss: 3.7069 - val_accuracy: 0.0993\n",
      "Epoch 5/100\n",
      "183/183 [==============================] - 32s 176ms/step - loss: 1.5732 - accuracy: 0.3541 - val_loss: 3.7569 - val_accuracy: 0.0997\n",
      "Epoch 6/100\n",
      "183/183 [==============================] - 31s 168ms/step - loss: 1.5386 - accuracy: 0.3651 - val_loss: 3.7943 - val_accuracy: 0.0985\n",
      "Epoch 7/100\n",
      "183/183 [==============================] - 31s 169ms/step - loss: 1.5036 - accuracy: 0.3759 - val_loss: 3.8375 - val_accuracy: 0.0989\n",
      "Epoch 8/100\n",
      "183/183 [==============================] - 30s 167ms/step - loss: 1.4712 - accuracy: 0.3865 - val_loss: 3.8793 - val_accuracy: 0.0976\n",
      "Epoch 9/100\n",
      "183/183 [==============================] - 31s 170ms/step - loss: 1.4416 - accuracy: 0.3958 - val_loss: 3.9334 - val_accuracy: 0.0977\n",
      "Epoch 10/100\n",
      "183/183 [==============================] - 31s 172ms/step - loss: 1.4084 - accuracy: 0.4063 - val_loss: 3.9685 - val_accuracy: 0.0967\n",
      "Epoch 11/100\n",
      "183/183 [==============================] - 31s 171ms/step - loss: 1.3774 - accuracy: 0.4170 - val_loss: 4.0085 - val_accuracy: 0.0966\n",
      "Epoch 12/100\n",
      "183/183 [==============================] - 32s 175ms/step - loss: 1.3477 - accuracy: 0.4280 - val_loss: 4.0538 - val_accuracy: 0.0948\n",
      "Epoch 13/100\n",
      "183/183 [==============================] - 31s 168ms/step - loss: 1.3176 - accuracy: 0.4381 - val_loss: 4.1067 - val_accuracy: 0.0962\n",
      "Epoch 14/100\n",
      "183/183 [==============================] - 32s 176ms/step - loss: 1.2903 - accuracy: 0.4473 - val_loss: 4.1437 - val_accuracy: 0.0954\n",
      "Epoch 15/100\n",
      "183/183 [==============================] - 32s 175ms/step - loss: 1.2632 - accuracy: 0.4572 - val_loss: 4.1914 - val_accuracy: 0.0946\n",
      "Epoch 16/100\n",
      "183/183 [==============================] - 33s 179ms/step - loss: 1.2379 - accuracy: 0.4672 - val_loss: 4.2290 - val_accuracy: 0.0950\n",
      "Epoch 17/100\n",
      "183/183 [==============================] - 32s 173ms/step - loss: 1.2108 - accuracy: 0.4767 - val_loss: 4.2858 - val_accuracy: 0.0951\n",
      "Epoch 18/100\n",
      "183/183 [==============================] - 31s 169ms/step - loss: 1.1848 - accuracy: 0.4871 - val_loss: 4.3293 - val_accuracy: 0.0943\n",
      "Epoch 19/100\n",
      "183/183 [==============================] - 32s 173ms/step - loss: 1.1610 - accuracy: 0.4944 - val_loss: 4.3584 - val_accuracy: 0.0950\n",
      "Epoch 20/100\n",
      "183/183 [==============================] - 31s 167ms/step - loss: 1.1363 - accuracy: 0.5043 - val_loss: 4.4029 - val_accuracy: 0.0930\n",
      "Epoch 21/100\n",
      "183/183 [==============================] - 32s 173ms/step - loss: 1.1116 - accuracy: 0.5141 - val_loss: 4.4464 - val_accuracy: 0.0929\n",
      "Epoch 22/100\n",
      "183/183 [==============================] - 32s 173ms/step - loss: 1.0895 - accuracy: 0.5223 - val_loss: 4.4890 - val_accuracy: 0.0931\n",
      "Epoch 23/100\n",
      "183/183 [==============================] - 32s 174ms/step - loss: 1.0694 - accuracy: 0.5291 - val_loss: 4.5360 - val_accuracy: 0.0921\n",
      "Epoch 24/100\n",
      "183/183 [==============================] - 32s 173ms/step - loss: 1.0457 - accuracy: 0.5394 - val_loss: 4.5777 - val_accuracy: 0.0924\n",
      "Epoch 25/100\n",
      "183/183 [==============================] - 32s 173ms/step - loss: 1.0223 - accuracy: 0.5489 - val_loss: 4.6137 - val_accuracy: 0.0926\n",
      "Epoch 26/100\n",
      "183/183 [==============================] - 31s 170ms/step - loss: 1.0000 - accuracy: 0.5580 - val_loss: 4.6618 - val_accuracy: 0.0908\n",
      "Epoch 27/100\n",
      "183/183 [==============================] - 32s 174ms/step - loss: 0.9793 - accuracy: 0.5659 - val_loss: 4.7066 - val_accuracy: 0.0926\n",
      "Epoch 28/100\n",
      "183/183 [==============================] - 31s 171ms/step - loss: 0.9606 - accuracy: 0.5735 - val_loss: 4.7371 - val_accuracy: 0.0923\n",
      "Epoch 29/100\n",
      "183/183 [==============================] - 32s 176ms/step - loss: 0.9421 - accuracy: 0.5817 - val_loss: 4.7777 - val_accuracy: 0.0920\n",
      "Epoch 30/100\n",
      "183/183 [==============================] - 32s 176ms/step - loss: 0.9225 - accuracy: 0.5892 - val_loss: 4.8209 - val_accuracy: 0.0907\n",
      "Epoch 31/100\n",
      "183/183 [==============================] - 32s 177ms/step - loss: 0.9058 - accuracy: 0.5962 - val_loss: 4.8773 - val_accuracy: 0.0922\n",
      "Epoch 32/100\n",
      "183/183 [==============================] - 32s 177ms/step - loss: 0.8855 - accuracy: 0.6047 - val_loss: 4.8985 - val_accuracy: 0.0914\n",
      "Epoch 33/100\n",
      "183/183 [==============================] - 32s 177ms/step - loss: 0.8650 - accuracy: 0.6140 - val_loss: 4.9505 - val_accuracy: 0.0909\n",
      "Epoch 34/100\n",
      "183/183 [==============================] - 31s 169ms/step - loss: 0.8477 - accuracy: 0.6215 - val_loss: 4.9843 - val_accuracy: 0.0912\n",
      "Epoch 35/100\n",
      "183/183 [==============================] - 32s 175ms/step - loss: 0.8309 - accuracy: 0.6284 - val_loss: 5.0206 - val_accuracy: 0.0912\n",
      "Epoch 36/100\n",
      "183/183 [==============================] - 32s 177ms/step - loss: 0.8138 - accuracy: 0.6358 - val_loss: 5.0696 - val_accuracy: 0.0905\n",
      "Epoch 37/100\n",
      "183/183 [==============================] - 33s 182ms/step - loss: 0.7980 - accuracy: 0.6426 - val_loss: 5.1241 - val_accuracy: 0.0904\n",
      "Epoch 38/100\n",
      "183/183 [==============================] - 32s 177ms/step - loss: 0.7844 - accuracy: 0.6480 - val_loss: 5.1490 - val_accuracy: 0.0903\n",
      "Epoch 39/100\n",
      "183/183 [==============================] - 32s 173ms/step - loss: 0.7682 - accuracy: 0.6545 - val_loss: 5.1990 - val_accuracy: 0.0897\n",
      "Epoch 40/100\n",
      "183/183 [==============================] - 32s 177ms/step - loss: 0.7512 - accuracy: 0.6630 - val_loss: 5.2356 - val_accuracy: 0.0897\n",
      "Epoch 41/100\n",
      "183/183 [==============================] - 33s 176ms/step - loss: 0.7366 - accuracy: 0.6693 - val_loss: 5.2759 - val_accuracy: 0.0899\n",
      "Epoch 42/100\n",
      "183/183 [==============================] - 32s 175ms/step - loss: 0.7223 - accuracy: 0.6752 - val_loss: 5.3202 - val_accuracy: 0.0883\n",
      "Epoch 43/100\n",
      "183/183 [==============================] - 33s 181ms/step - loss: 0.7077 - accuracy: 0.6821 - val_loss: 5.3496 - val_accuracy: 0.0884\n",
      "Epoch 44/100\n",
      "183/183 [==============================] - 31s 170ms/step - loss: 0.6940 - accuracy: 0.6884 - val_loss: 5.3910 - val_accuracy: 0.0884\n",
      "Epoch 45/100\n",
      "183/183 [==============================] - 32s 174ms/step - loss: 0.6788 - accuracy: 0.6947 - val_loss: 5.4362 - val_accuracy: 0.0888\n",
      "Epoch 46/100\n",
      "183/183 [==============================] - 35s 194ms/step - loss: 0.6656 - accuracy: 0.7011 - val_loss: 5.4639 - val_accuracy: 0.0888\n",
      "Epoch 47/100\n",
      "183/183 [==============================] - 36s 196ms/step - loss: 0.6507 - accuracy: 0.7083 - val_loss: 5.5092 - val_accuracy: 0.0879\n",
      "Epoch 48/100\n",
      "183/183 [==============================] - 35s 190ms/step - loss: 0.6375 - accuracy: 0.7144 - val_loss: 5.5471 - val_accuracy: 0.0885\n",
      "Epoch 49/100\n",
      "183/183 [==============================] - 36s 195ms/step - loss: 0.6239 - accuracy: 0.7199 - val_loss: 5.5967 - val_accuracy: 0.0891\n",
      "Epoch 50/100\n",
      "183/183 [==============================] - 35s 192ms/step - loss: 0.6153 - accuracy: 0.7240 - val_loss: 5.6283 - val_accuracy: 0.0886\n",
      "Epoch 51/100\n",
      "183/183 [==============================] - 33s 182ms/step - loss: 0.6038 - accuracy: 0.7289 - val_loss: 5.6463 - val_accuracy: 0.0882\n",
      "Epoch 52/100\n",
      "183/183 [==============================] - 34s 184ms/step - loss: 0.5917 - accuracy: 0.7340 - val_loss: 5.6920 - val_accuracy: 0.0880\n",
      "Epoch 53/100\n",
      "183/183 [==============================] - 32s 178ms/step - loss: 0.5809 - accuracy: 0.7391 - val_loss: 5.7368 - val_accuracy: 0.0869\n",
      "Epoch 54/100\n",
      "183/183 [==============================] - 33s 180ms/step - loss: 0.5684 - accuracy: 0.7450 - val_loss: 5.7748 - val_accuracy: 0.0876\n",
      "Epoch 55/100\n",
      "183/183 [==============================] - 33s 180ms/step - loss: 0.5583 - accuracy: 0.7501 - val_loss: 5.7898 - val_accuracy: 0.0881\n",
      "Epoch 56/100\n",
      "183/183 [==============================] - 32s 178ms/step - loss: 0.5462 - accuracy: 0.7549 - val_loss: 5.8483 - val_accuracy: 0.0879\n",
      "Epoch 57/100\n",
      "183/183 [==============================] - 34s 187ms/step - loss: 0.5347 - accuracy: 0.7613 - val_loss: 5.8667 - val_accuracy: 0.0872\n",
      "Epoch 58/100\n",
      "183/183 [==============================] - 35s 192ms/step - loss: 0.5251 - accuracy: 0.7651 - val_loss: 5.9144 - val_accuracy: 0.0883\n",
      "Epoch 59/100\n",
      "183/183 [==============================] - 35s 191ms/step - loss: 0.5169 - accuracy: 0.7689 - val_loss: 5.9300 - val_accuracy: 0.0869\n",
      "Epoch 60/100\n",
      "183/183 [==============================] - 36s 193ms/step - loss: 0.5072 - accuracy: 0.7737 - val_loss: 5.9719 - val_accuracy: 0.0878\n",
      "Epoch 61/100\n",
      "183/183 [==============================] - 34s 186ms/step - loss: 0.4969 - accuracy: 0.7786 - val_loss: 6.0079 - val_accuracy: 0.0870\n",
      "Epoch 62/100\n",
      "183/183 [==============================] - 35s 191ms/step - loss: 0.4881 - accuracy: 0.7821 - val_loss: 6.0591 - val_accuracy: 0.0882\n",
      "Epoch 63/100\n",
      "183/183 [==============================] - 36s 195ms/step - loss: 0.4795 - accuracy: 0.7860 - val_loss: 6.0683 - val_accuracy: 0.0864\n",
      "Epoch 64/100\n",
      "183/183 [==============================] - 36s 194ms/step - loss: 0.4701 - accuracy: 0.7905 - val_loss: 6.1056 - val_accuracy: 0.0875\n",
      "Epoch 65/100\n",
      "183/183 [==============================] - 36s 198ms/step - loss: 0.4620 - accuracy: 0.7941 - val_loss: 6.1459 - val_accuracy: 0.0870\n",
      "Epoch 66/100\n",
      "183/183 [==============================] - 36s 196ms/step - loss: 0.4543 - accuracy: 0.7983 - val_loss: 6.1756 - val_accuracy: 0.0868\n",
      "Epoch 67/100\n",
      "183/183 [==============================] - 35s 193ms/step - loss: 0.4458 - accuracy: 0.8015 - val_loss: 6.2069 - val_accuracy: 0.0854\n",
      "Epoch 68/100\n",
      "183/183 [==============================] - 35s 193ms/step - loss: 0.4373 - accuracy: 0.8055 - val_loss: 6.2353 - val_accuracy: 0.0858\n",
      "Epoch 69/100\n",
      "183/183 [==============================] - 32s 175ms/step - loss: 0.4314 - accuracy: 0.8081 - val_loss: 6.2757 - val_accuracy: 0.0865\n",
      "Epoch 70/100\n",
      "183/183 [==============================] - 35s 193ms/step - loss: 0.4251 - accuracy: 0.8107 - val_loss: 6.3025 - val_accuracy: 0.0863\n",
      "Epoch 71/100\n",
      "183/183 [==============================] - 34s 187ms/step - loss: 0.4180 - accuracy: 0.8138 - val_loss: 6.3323 - val_accuracy: 0.0858\n",
      "Epoch 72/100\n",
      "183/183 [==============================] - 35s 194ms/step - loss: 0.4090 - accuracy: 0.8176 - val_loss: 6.3561 - val_accuracy: 0.0862\n",
      "Epoch 73/100\n",
      "183/183 [==============================] - 35s 191ms/step - loss: 0.4014 - accuracy: 0.8220 - val_loss: 6.3991 - val_accuracy: 0.0856\n",
      "Epoch 74/100\n",
      "183/183 [==============================] - 36s 197ms/step - loss: 0.3955 - accuracy: 0.8241 - val_loss: 6.4198 - val_accuracy: 0.0858\n",
      "Epoch 75/100\n",
      "183/183 [==============================] - 35s 190ms/step - loss: 0.3888 - accuracy: 0.8270 - val_loss: 6.4460 - val_accuracy: 0.0863\n",
      "Epoch 76/100\n",
      "183/183 [==============================] - 34s 188ms/step - loss: 0.3816 - accuracy: 0.8308 - val_loss: 6.4887 - val_accuracy: 0.0867\n",
      "Epoch 77/100\n",
      "183/183 [==============================] - 36s 195ms/step - loss: 0.3751 - accuracy: 0.8340 - val_loss: 6.5189 - val_accuracy: 0.0859\n",
      "Epoch 78/100\n",
      "183/183 [==============================] - 36s 198ms/step - loss: 0.3705 - accuracy: 0.8357 - val_loss: 6.5286 - val_accuracy: 0.0848\n",
      "Epoch 79/100\n",
      "183/183 [==============================] - 32s 175ms/step - loss: 0.3674 - accuracy: 0.8368 - val_loss: 6.5685 - val_accuracy: 0.0861\n",
      "Epoch 80/100\n",
      "183/183 [==============================] - 31s 167ms/step - loss: 0.3626 - accuracy: 0.8389 - val_loss: 6.5892 - val_accuracy: 0.0867\n",
      "Epoch 81/100\n",
      "183/183 [==============================] - 41s 225ms/step - loss: 0.3586 - accuracy: 0.8393 - val_loss: 6.6149 - val_accuracy: 0.0858\n",
      "Epoch 82/100\n",
      "183/183 [==============================] - 34s 187ms/step - loss: 0.3531 - accuracy: 0.8424 - val_loss: 6.6497 - val_accuracy: 0.0867\n",
      "Epoch 83/100\n",
      "183/183 [==============================] - 37s 205ms/step - loss: 0.3463 - accuracy: 0.8456 - val_loss: 6.6847 - val_accuracy: 0.0861\n",
      "Epoch 84/100\n",
      "183/183 [==============================] - 38s 208ms/step - loss: 0.3377 - accuracy: 0.8506 - val_loss: 6.7074 - val_accuracy: 0.0864\n",
      "Epoch 85/100\n",
      "183/183 [==============================] - 39s 213ms/step - loss: 0.3302 - accuracy: 0.8539 - val_loss: 6.7377 - val_accuracy: 0.0854\n",
      "Epoch 86/100\n",
      "183/183 [==============================] - 38s 209ms/step - loss: 0.3264 - accuracy: 0.8554 - val_loss: 6.7513 - val_accuracy: 0.0849\n",
      "Epoch 87/100\n",
      "183/183 [==============================] - 40s 219ms/step - loss: 0.3216 - accuracy: 0.8573 - val_loss: 6.7669 - val_accuracy: 0.0861\n",
      "Epoch 88/100\n",
      "183/183 [==============================] - 40s 218ms/step - loss: 0.3189 - accuracy: 0.8582 - val_loss: 6.8088 - val_accuracy: 0.0859\n",
      "Epoch 89/100\n",
      "183/183 [==============================] - 40s 214ms/step - loss: 0.3164 - accuracy: 0.8594 - val_loss: 6.8314 - val_accuracy: 0.0856\n",
      "Epoch 90/100\n",
      "183/183 [==============================] - 48s 264ms/step - loss: 0.3145 - accuracy: 0.8593 - val_loss: 6.8632 - val_accuracy: 0.0849\n",
      "Epoch 91/100\n",
      "183/183 [==============================] - 37s 201ms/step - loss: 0.3110 - accuracy: 0.8606 - val_loss: 6.8829 - val_accuracy: 0.0849\n",
      "Epoch 92/100\n",
      "183/183 [==============================] - 36s 198ms/step - loss: 0.3075 - accuracy: 0.8621 - val_loss: 6.9120 - val_accuracy: 0.0851\n",
      "Epoch 93/100\n",
      "183/183 [==============================] - 38s 205ms/step - loss: 0.3044 - accuracy: 0.8629 - val_loss: 6.9531 - val_accuracy: 0.0861\n",
      "Epoch 94/100\n",
      "183/183 [==============================] - 37s 201ms/step - loss: 0.3005 - accuracy: 0.8647 - val_loss: 6.9438 - val_accuracy: 0.0851\n",
      "Epoch 95/100\n",
      "183/183 [==============================] - 36s 199ms/step - loss: 0.2959 - accuracy: 0.8668 - val_loss: 6.9828 - val_accuracy: 0.0852\n",
      "Epoch 96/100\n",
      "183/183 [==============================] - 37s 201ms/step - loss: 0.2928 - accuracy: 0.8686 - val_loss: 7.0009 - val_accuracy: 0.0851\n",
      "Epoch 97/100\n",
      "183/183 [==============================] - 36s 198ms/step - loss: 0.2900 - accuracy: 0.8695 - val_loss: 7.0243 - val_accuracy: 0.0846\n",
      "Epoch 98/100\n",
      "183/183 [==============================] - 37s 201ms/step - loss: 0.2831 - accuracy: 0.8726 - val_loss: 7.0341 - val_accuracy: 0.0850\n",
      "Epoch 99/100\n",
      "183/183 [==============================] - 36s 196ms/step - loss: 0.2785 - accuracy: 0.8752 - val_loss: 7.0619 - val_accuracy: 0.0853\n",
      "Epoch 100/100\n",
      "183/183 [==============================] - 37s 203ms/step - loss: 0.2746 - accuracy: 0.8771 - val_loss: 7.1009 - val_accuracy: 0.0852\n"
     ]
    }
   ],
   "source": [
    "history = model.fit(X_train_enc, y_train_enc, epochs=100, batch_size=117, validation_split=0.2)"
   ]
  },
  {
   "cell_type": "markdown",
   "metadata": {},
   "source": [
    "## Translate on model"
   ]
  },
  {
   "cell_type": "code",
   "execution_count": 367,
   "metadata": {},
   "outputs": [],
   "source": [
    "# translate encoded values into words\n",
    "def get_word(n):\n",
    "    for i in n[0]:\n",
    "        k = i\n",
    "        for key, value in fr_tokenizer.word_index.items():\n",
    "            if value == k:\n",
    "                print(key, end=' ')"
   ]
  },
  {
   "cell_type": "code",
   "execution_count": 368,
   "metadata": {},
   "outputs": [],
   "source": [
    "# create function for prediction\n",
    "def predict(text):\n",
    "    t_enc = encoder(eng_tokenizer, maxlen, text)\n",
    "    pred = model.predict_classes(t_enc)\n",
    "    pred = get_word(pred)\n",
    "    return pred"
   ]
  },
  {
   "cell_type": "code",
   "execution_count": 469,
   "metadata": {},
   "outputs": [
    {
     "name": "stdout",
     "output_type": "stream",
     "text": [
      "chaque jour européenne pourtant et leurs applaudissements applaudissements applaudissements applaudissements applaudissements applaudissements applaudissements applaudissements applaudissements applaudissements applaudissements applaudissements applaudissements applaudissements applaudissements applaudissements applaudissements applaudissements applaudissements applaudissements applaudissements applaudissements applaudissements applaudissements applaudissements applaudissements applaudissements applaudissements applaudissements applaudissements applaudissements applaudissements applaudissements "
     ]
    }
   ],
   "source": [
    "# use prediction function to see what comes out\n",
    "predict(['every day is pain and suffering'])"
   ]
  },
  {
   "cell_type": "markdown",
   "metadata": {},
   "source": [
    "Problems with the model:\n",
    "\n",
    "As we can see the model is extremely overfit on the training data. Using predict on the training data itself shows very good results in translating.\\\n",
    "Using words and phrases from the training data produces mixed results. Sometimes it will predict phrases correctly and other times it will be completely wrong.\\\n",
    "Also, the model's use of \"applaudissements\" (a value of 1251 in encoding) repeatedly shows that it learned to use that word in place of null (a value of 0 in the encoding)."
   ]
  },
  {
   "cell_type": "code",
   "execution_count": null,
   "metadata": {},
   "outputs": [],
   "source": []
  }
 ],
 "metadata": {
  "kernelspec": {
   "display_name": "Python 3",
   "language": "python",
   "name": "python3"
  },
  "language_info": {
   "codemirror_mode": {
    "name": "ipython",
    "version": 3
   },
   "file_extension": ".py",
   "mimetype": "text/x-python",
   "name": "python",
   "nbconvert_exporter": "python",
   "pygments_lexer": "ipython3",
   "version": "3.8.5"
  }
 },
 "nbformat": 4,
 "nbformat_minor": 4
}
